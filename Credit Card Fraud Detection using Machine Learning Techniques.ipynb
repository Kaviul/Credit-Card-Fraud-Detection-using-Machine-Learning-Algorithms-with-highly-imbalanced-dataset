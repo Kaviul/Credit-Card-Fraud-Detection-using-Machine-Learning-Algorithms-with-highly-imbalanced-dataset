{
 "cells": [
  {
   "cell_type": "code",
   "execution_count": 1,
   "id": "8e649950",
   "metadata": {},
   "outputs": [],
   "source": [
    "import numpy as np\n",
    "import pandas as pd\n",
    "import datetime as DT\n",
    "from sklearn.model_selection import train_test_split\n",
    "from sklearn.metrics import confusion_matrix\n",
    "import matplotlib.pyplot as plt\n",
    "import seaborn as sns\n",
    "import warnings\n",
    "from sklearn.datasets import make_classification\n",
    "from sklearn.preprocessing import StandardScaler\n",
    "from sklearn.model_selection import train_test_split\n",
    "from sklearn.neighbors import KNeighborsClassifier\n",
    "from sklearn.model_selection import cross_val_score\n",
    "from sklearn.metrics import accuracy_score, precision_score, recall_score, f1_score, precision_recall_curve, plot_precision_recall_curve\n",
    "from sklearn import metrics\n",
    "from sklearn.linear_model import LogisticRegression\n",
    "from sklearn.svm import SVC\n",
    "from sklearn.tree import DecisionTreeClassifier\n",
    "from sklearn.ensemble import RandomForestClassifier\n",
    "plt.style.use('seaborn')\n",
    "sns.set()\n",
    "%matplotlib inline\n",
    "warnings.filterwarnings(\"ignore\")"
   ]
  },
  {
   "cell_type": "code",
   "execution_count": 2,
   "id": "f693e895",
   "metadata": {},
   "outputs": [
    {
     "data": {
      "text/html": [
       "<div>\n",
       "<style scoped>\n",
       "    .dataframe tbody tr th:only-of-type {\n",
       "        vertical-align: middle;\n",
       "    }\n",
       "\n",
       "    .dataframe tbody tr th {\n",
       "        vertical-align: top;\n",
       "    }\n",
       "\n",
       "    .dataframe thead th {\n",
       "        text-align: right;\n",
       "    }\n",
       "</style>\n",
       "<table border=\"1\" class=\"dataframe\">\n",
       "  <thead>\n",
       "    <tr style=\"text-align: right;\">\n",
       "      <th></th>\n",
       "      <th>Time</th>\n",
       "      <th>amt</th>\n",
       "      <th>zip</th>\n",
       "      <th>lat</th>\n",
       "      <th>long</th>\n",
       "      <th>city_pop</th>\n",
       "      <th>merch_lat</th>\n",
       "      <th>merch_long</th>\n",
       "      <th>Cust_City</th>\n",
       "      <th>Tran_State</th>\n",
       "      <th>Tran_Category</th>\n",
       "      <th>Month</th>\n",
       "      <th>age</th>\n",
       "      <th>sex</th>\n",
       "      <th>is_fraud</th>\n",
       "    </tr>\n",
       "  </thead>\n",
       "  <tbody>\n",
       "    <tr>\n",
       "      <th>0</th>\n",
       "      <td>0.0</td>\n",
       "      <td>4.97</td>\n",
       "      <td>28654</td>\n",
       "      <td>36.0788</td>\n",
       "      <td>-81.1781</td>\n",
       "      <td>3495</td>\n",
       "      <td>36.011293</td>\n",
       "      <td>-82.048315</td>\n",
       "      <td>0</td>\n",
       "      <td>0</td>\n",
       "      <td>0</td>\n",
       "      <td>1</td>\n",
       "      <td>33.0</td>\n",
       "      <td>1</td>\n",
       "      <td>0</td>\n",
       "    </tr>\n",
       "    <tr>\n",
       "      <th>1</th>\n",
       "      <td>0.0</td>\n",
       "      <td>107.23</td>\n",
       "      <td>99160</td>\n",
       "      <td>48.8878</td>\n",
       "      <td>-118.2105</td>\n",
       "      <td>149</td>\n",
       "      <td>49.159047</td>\n",
       "      <td>-118.186462</td>\n",
       "      <td>1</td>\n",
       "      <td>1</td>\n",
       "      <td>1</td>\n",
       "      <td>1</td>\n",
       "      <td>43.0</td>\n",
       "      <td>1</td>\n",
       "      <td>0</td>\n",
       "    </tr>\n",
       "    <tr>\n",
       "      <th>2</th>\n",
       "      <td>0.0</td>\n",
       "      <td>220.11</td>\n",
       "      <td>83252</td>\n",
       "      <td>42.1808</td>\n",
       "      <td>-112.2620</td>\n",
       "      <td>4154</td>\n",
       "      <td>43.150704</td>\n",
       "      <td>-112.154481</td>\n",
       "      <td>2</td>\n",
       "      <td>2</td>\n",
       "      <td>2</td>\n",
       "      <td>1</td>\n",
       "      <td>59.0</td>\n",
       "      <td>0</td>\n",
       "      <td>0</td>\n",
       "    </tr>\n",
       "    <tr>\n",
       "      <th>3</th>\n",
       "      <td>1.0</td>\n",
       "      <td>45.00</td>\n",
       "      <td>59632</td>\n",
       "      <td>46.2306</td>\n",
       "      <td>-112.1138</td>\n",
       "      <td>1939</td>\n",
       "      <td>47.034331</td>\n",
       "      <td>-112.561071</td>\n",
       "      <td>3</td>\n",
       "      <td>3</td>\n",
       "      <td>3</td>\n",
       "      <td>1</td>\n",
       "      <td>54.0</td>\n",
       "      <td>0</td>\n",
       "      <td>0</td>\n",
       "    </tr>\n",
       "    <tr>\n",
       "      <th>4</th>\n",
       "      <td>3.0</td>\n",
       "      <td>41.96</td>\n",
       "      <td>24433</td>\n",
       "      <td>38.4207</td>\n",
       "      <td>-79.4629</td>\n",
       "      <td>99</td>\n",
       "      <td>38.674999</td>\n",
       "      <td>-78.632459</td>\n",
       "      <td>4</td>\n",
       "      <td>4</td>\n",
       "      <td>4</td>\n",
       "      <td>1</td>\n",
       "      <td>35.0</td>\n",
       "      <td>0</td>\n",
       "      <td>0</td>\n",
       "    </tr>\n",
       "  </tbody>\n",
       "</table>\n",
       "</div>"
      ],
      "text/plain": [
       "   Time     amt    zip      lat      long  city_pop  merch_lat  merch_long  \\\n",
       "0   0.0    4.97  28654  36.0788  -81.1781      3495  36.011293  -82.048315   \n",
       "1   0.0  107.23  99160  48.8878 -118.2105       149  49.159047 -118.186462   \n",
       "2   0.0  220.11  83252  42.1808 -112.2620      4154  43.150704 -112.154481   \n",
       "3   1.0   45.00  59632  46.2306 -112.1138      1939  47.034331 -112.561071   \n",
       "4   3.0   41.96  24433  38.4207  -79.4629        99  38.674999  -78.632459   \n",
       "\n",
       "   Cust_City  Tran_State  Tran_Category  Month   age  sex  is_fraud  \n",
       "0          0           0              0      1  33.0    1         0  \n",
       "1          1           1              1      1  43.0    1         0  \n",
       "2          2           2              2      1  59.0    0         0  \n",
       "3          3           3              3      1  54.0    0         0  \n",
       "4          4           4              4      1  35.0    0         0  "
      ]
     },
     "execution_count": 2,
     "metadata": {},
     "output_type": "execute_result"
    }
   ],
   "source": [
    "data=pd.read_csv('CCFD_Final_Dataset.csv')\n",
    "data.head()"
   ]
  },
  {
   "cell_type": "code",
   "execution_count": 3,
   "id": "17923057",
   "metadata": {},
   "outputs": [
    {
     "data": {
      "text/plain": [
       "(1048575, 15)"
      ]
     },
     "execution_count": 3,
     "metadata": {},
     "output_type": "execute_result"
    }
   ],
   "source": [
    "data.shape"
   ]
  },
  {
   "cell_type": "code",
   "execution_count": 4,
   "id": "d1cd5a8d",
   "metadata": {},
   "outputs": [],
   "source": [
    "valid=data[data.is_fraud==0]"
   ]
  },
  {
   "cell_type": "code",
   "execution_count": 5,
   "id": "818aefa4",
   "metadata": {},
   "outputs": [
    {
     "data": {
      "text/plain": [
       "(1042569, 15)"
      ]
     },
     "execution_count": 5,
     "metadata": {},
     "output_type": "execute_result"
    }
   ],
   "source": [
    "valid.shape"
   ]
  },
  {
   "cell_type": "code",
   "execution_count": 6,
   "id": "8676531b",
   "metadata": {},
   "outputs": [
    {
     "data": {
      "text/plain": [
       "(6006, 15)"
      ]
     },
     "execution_count": 6,
     "metadata": {},
     "output_type": "execute_result"
    }
   ],
   "source": [
    "fraud=data[data.is_fraud==1]\n",
    "fraud.shape"
   ]
  },
  {
   "cell_type": "code",
   "execution_count": 7,
   "id": "169137d7",
   "metadata": {},
   "outputs": [
    {
     "data": {
      "text/plain": [
       "count    1.048575e+06\n",
       "mean     7.027910e+01\n",
       "std      1.599518e+02\n",
       "min      1.000000e+00\n",
       "25%      9.640000e+00\n",
       "50%      4.745000e+01\n",
       "75%      8.305000e+01\n",
       "max      2.894890e+04\n",
       "Name: amt, dtype: float64"
      ]
     },
     "execution_count": 7,
     "metadata": {},
     "output_type": "execute_result"
    }
   ],
   "source": [
    "data['amt'].describe()"
   ]
  },
  {
   "cell_type": "code",
   "execution_count": 8,
   "id": "d3fba579",
   "metadata": {},
   "outputs": [
    {
     "data": {
      "text/html": [
       "<div>\n",
       "<style scoped>\n",
       "    .dataframe tbody tr th:only-of-type {\n",
       "        vertical-align: middle;\n",
       "    }\n",
       "\n",
       "    .dataframe tbody tr th {\n",
       "        vertical-align: top;\n",
       "    }\n",
       "\n",
       "    .dataframe thead th {\n",
       "        text-align: right;\n",
       "    }\n",
       "</style>\n",
       "<table border=\"1\" class=\"dataframe\">\n",
       "  <thead>\n",
       "    <tr style=\"text-align: right;\">\n",
       "      <th></th>\n",
       "      <th>Time</th>\n",
       "      <th>amt</th>\n",
       "      <th>zip</th>\n",
       "      <th>lat</th>\n",
       "      <th>long</th>\n",
       "      <th>city_pop</th>\n",
       "      <th>merch_lat</th>\n",
       "      <th>merch_long</th>\n",
       "      <th>Cust_City</th>\n",
       "      <th>Tran_State</th>\n",
       "      <th>Tran_Category</th>\n",
       "      <th>Month</th>\n",
       "      <th>age</th>\n",
       "      <th>sex</th>\n",
       "    </tr>\n",
       "    <tr>\n",
       "      <th>is_fraud</th>\n",
       "      <th></th>\n",
       "      <th></th>\n",
       "      <th></th>\n",
       "      <th></th>\n",
       "      <th></th>\n",
       "      <th></th>\n",
       "      <th></th>\n",
       "      <th></th>\n",
       "      <th></th>\n",
       "      <th></th>\n",
       "      <th></th>\n",
       "      <th></th>\n",
       "      <th></th>\n",
       "      <th></th>\n",
       "    </tr>\n",
       "  </thead>\n",
       "  <tbody>\n",
       "    <tr>\n",
       "      <th>0</th>\n",
       "      <td>797.154262</td>\n",
       "      <td>67.627445</td>\n",
       "      <td>48805.355338</td>\n",
       "      <td>38.532842</td>\n",
       "      <td>-90.228376</td>\n",
       "      <td>89015.900200</td>\n",
       "      <td>38.532993</td>\n",
       "      <td>-90.228625</td>\n",
       "      <td>370.996427</td>\n",
       "      <td>21.869969</td>\n",
       "      <td>6.541596</td>\n",
       "      <td>6.518686</td>\n",
       "      <td>47.260116</td>\n",
       "      <td>0.547679</td>\n",
       "    </tr>\n",
       "    <tr>\n",
       "      <th>1</th>\n",
       "      <td>864.681985</td>\n",
       "      <td>530.573492</td>\n",
       "      <td>48148.078422</td>\n",
       "      <td>38.623988</td>\n",
       "      <td>-89.858250</td>\n",
       "      <td>96323.951715</td>\n",
       "      <td>38.615091</td>\n",
       "      <td>-89.853555</td>\n",
       "      <td>439.011156</td>\n",
       "      <td>22.471362</td>\n",
       "      <td>4.402764</td>\n",
       "      <td>5.839660</td>\n",
       "      <td>49.804529</td>\n",
       "      <td>0.495338</td>\n",
       "    </tr>\n",
       "  </tbody>\n",
       "</table>\n",
       "</div>"
      ],
      "text/plain": [
       "                Time         amt           zip        lat       long  \\\n",
       "is_fraud                                                               \n",
       "0         797.154262   67.627445  48805.355338  38.532842 -90.228376   \n",
       "1         864.681985  530.573492  48148.078422  38.623988 -89.858250   \n",
       "\n",
       "              city_pop  merch_lat  merch_long   Cust_City  Tran_State  \\\n",
       "is_fraud                                                                \n",
       "0         89015.900200  38.532993  -90.228625  370.996427   21.869969   \n",
       "1         96323.951715  38.615091  -89.853555  439.011156   22.471362   \n",
       "\n",
       "          Tran_Category     Month        age       sex  \n",
       "is_fraud                                                \n",
       "0              6.541596  6.518686  47.260116  0.547679  \n",
       "1              4.402764  5.839660  49.804529  0.495338  "
      ]
     },
     "execution_count": 8,
     "metadata": {},
     "output_type": "execute_result"
    }
   ],
   "source": [
    "data.groupby('is_fraud').mean()"
   ]
  },
  {
   "cell_type": "code",
   "execution_count": 9,
   "id": "d749fd9e",
   "metadata": {},
   "outputs": [],
   "source": [
    "valid_samp=valid.sample(n=10000)"
   ]
  },
  {
   "cell_type": "code",
   "execution_count": 10,
   "id": "7a212219",
   "metadata": {},
   "outputs": [],
   "source": [
    "new_data=pd.concat([valid_samp, fraud], axis=0)"
   ]
  },
  {
   "cell_type": "code",
   "execution_count": 11,
   "id": "9a599ea1",
   "metadata": {},
   "outputs": [
    {
     "data": {
      "text/plain": [
       "(1048575, 15)"
      ]
     },
     "execution_count": 11,
     "metadata": {},
     "output_type": "execute_result"
    }
   ],
   "source": [
    "new_data.shape"
   ]
  },
  {
   "cell_type": "code",
   "execution_count": 12,
   "id": "68bcae31",
   "metadata": {},
   "outputs": [
    {
     "data": {
      "text/plain": [
       "0    1042569\n",
       "1       6006\n",
       "Name: is_fraud, dtype: int64"
      ]
     },
     "execution_count": 12,
     "metadata": {},
     "output_type": "execute_result"
    }
   ],
   "source": [
    "new_data['is_fraud'].value_counts()"
   ]
  },
  {
   "cell_type": "code",
   "execution_count": 13,
   "id": "6eceadf3",
   "metadata": {},
   "outputs": [
    {
     "data": {
      "text/html": [
       "<div>\n",
       "<style scoped>\n",
       "    .dataframe tbody tr th:only-of-type {\n",
       "        vertical-align: middle;\n",
       "    }\n",
       "\n",
       "    .dataframe tbody tr th {\n",
       "        vertical-align: top;\n",
       "    }\n",
       "\n",
       "    .dataframe thead th {\n",
       "        text-align: right;\n",
       "    }\n",
       "</style>\n",
       "<table border=\"1\" class=\"dataframe\">\n",
       "  <thead>\n",
       "    <tr style=\"text-align: right;\">\n",
       "      <th></th>\n",
       "      <th>Time</th>\n",
       "      <th>amt</th>\n",
       "      <th>zip</th>\n",
       "      <th>lat</th>\n",
       "      <th>long</th>\n",
       "      <th>city_pop</th>\n",
       "      <th>merch_lat</th>\n",
       "      <th>merch_long</th>\n",
       "      <th>Cust_City</th>\n",
       "      <th>Tran_State</th>\n",
       "      <th>Tran_Category</th>\n",
       "      <th>Month</th>\n",
       "      <th>age</th>\n",
       "      <th>sex</th>\n",
       "    </tr>\n",
       "    <tr>\n",
       "      <th>is_fraud</th>\n",
       "      <th></th>\n",
       "      <th></th>\n",
       "      <th></th>\n",
       "      <th></th>\n",
       "      <th></th>\n",
       "      <th></th>\n",
       "      <th></th>\n",
       "      <th></th>\n",
       "      <th></th>\n",
       "      <th></th>\n",
       "      <th></th>\n",
       "      <th></th>\n",
       "      <th></th>\n",
       "      <th></th>\n",
       "    </tr>\n",
       "  </thead>\n",
       "  <tbody>\n",
       "    <tr>\n",
       "      <th>0</th>\n",
       "      <td>797.154262</td>\n",
       "      <td>67.627445</td>\n",
       "      <td>48805.355338</td>\n",
       "      <td>38.532842</td>\n",
       "      <td>-90.228376</td>\n",
       "      <td>89015.900200</td>\n",
       "      <td>38.532993</td>\n",
       "      <td>-90.228625</td>\n",
       "      <td>370.996427</td>\n",
       "      <td>21.869969</td>\n",
       "      <td>6.541596</td>\n",
       "      <td>6.518686</td>\n",
       "      <td>47.260116</td>\n",
       "      <td>0.547679</td>\n",
       "    </tr>\n",
       "    <tr>\n",
       "      <th>1</th>\n",
       "      <td>864.681985</td>\n",
       "      <td>530.573492</td>\n",
       "      <td>48148.078422</td>\n",
       "      <td>38.623988</td>\n",
       "      <td>-89.858250</td>\n",
       "      <td>96323.951715</td>\n",
       "      <td>38.615091</td>\n",
       "      <td>-89.853555</td>\n",
       "      <td>439.011156</td>\n",
       "      <td>22.471362</td>\n",
       "      <td>4.402764</td>\n",
       "      <td>5.839660</td>\n",
       "      <td>49.804529</td>\n",
       "      <td>0.495338</td>\n",
       "    </tr>\n",
       "  </tbody>\n",
       "</table>\n",
       "</div>"
      ],
      "text/plain": [
       "                Time         amt           zip        lat       long  \\\n",
       "is_fraud                                                               \n",
       "0         797.154262   67.627445  48805.355338  38.532842 -90.228376   \n",
       "1         864.681985  530.573492  48148.078422  38.623988 -89.858250   \n",
       "\n",
       "              city_pop  merch_lat  merch_long   Cust_City  Tran_State  \\\n",
       "is_fraud                                                                \n",
       "0         89015.900200  38.532993  -90.228625  370.996427   21.869969   \n",
       "1         96323.951715  38.615091  -89.853555  439.011156   22.471362   \n",
       "\n",
       "          Tran_Category     Month        age       sex  \n",
       "is_fraud                                                \n",
       "0              6.541596  6.518686  47.260116  0.547679  \n",
       "1              4.402764  5.839660  49.804529  0.495338  "
      ]
     },
     "execution_count": 13,
     "metadata": {},
     "output_type": "execute_result"
    }
   ],
   "source": [
    "new_data.groupby('is_fraud').mean()"
   ]
  },
  {
   "cell_type": "code",
   "execution_count": 14,
   "id": "e413c905",
   "metadata": {},
   "outputs": [
    {
     "name": "stdout",
     "output_type": "stream",
     "text": [
      "Data Shape: (1048575, 15)\n",
      "X shape: (1048575, 14)\n",
      "Y shape: (1048575,)\n"
     ]
    }
   ],
   "source": [
    "print('Data Shape:', new_data.shape)\n",
    "x = new_data.iloc[: , :-1]\n",
    "y = new_data.iloc[: , -1]\n",
    "print('X shape:', x.shape)\n",
    "print('Y shape:', y.shape)"
   ]
  },
  {
   "cell_type": "code",
   "execution_count": 15,
   "id": "196535be",
   "metadata": {},
   "outputs": [
    {
     "name": "stdout",
     "output_type": "stream",
     "text": [
      "Not Fraud    1042569\n",
      "Fraud           6006\n",
      "Name: is_fraud, dtype: int64\n"
     ]
    }
   ],
   "source": [
    "classes = {0:'Not Fraud', 1:'Fraud'}\n",
    "classes_names = {'Not Fraud', 'Fraud'}\n",
    "print(new_data.is_fraud.value_counts().rename(index = classes))"
   ]
  },
  {
   "cell_type": "code",
   "execution_count": 16,
   "id": "7c6717ab",
   "metadata": {},
   "outputs": [],
   "source": [
    "x_train, x_test, y_train, y_test= train_test_split(x, y, test_size=0.3, stratify=y, random_state=2, shuffle=True) "
   ]
  },
  {
   "cell_type": "code",
   "execution_count": 17,
   "id": "2a84d4e9",
   "metadata": {},
   "outputs": [
    {
     "name": "stdout",
     "output_type": "stream",
     "text": [
      "(734002, 14) (734002,) (314573, 14)\n"
     ]
    }
   ],
   "source": [
    "print(x_train.shape, y_train.shape, x_test.shape)"
   ]
  },
  {
   "cell_type": "code",
   "execution_count": 18,
   "id": "7d156c73",
   "metadata": {},
   "outputs": [
    {
     "name": "stdout",
     "output_type": "stream",
     "text": [
      "Logistic Regression Train Score: 99.36\n",
      "Logistic Regression Test Score: 99.36\n"
     ]
    },
    {
     "data": {
      "image/png": "[encoded data removed]",
      "text/plain": [
       "<Figure size 432x288 with 1 Axes>"
      ]
     },
     "metadata": {
      "needs_background": "light"
     },
     "output_type": "display_data"
    },
    {
     "name": "stdout",
     "output_type": "stream",
     "text": [
      "Accuracy: 99.356\n",
      "Precision: 0.442\n",
      "Recall: 0.055\n",
      "F1_Score: 0.099\n",
      "Specifity: 99.928\n"
     ]
    },
    {
     "data": {
      "image/png": "[encoded data removed]",
      "text/plain": [
       "<Figure size 432x288 with 1 Axes>"
      ]
     },
     "metadata": {
      "needs_background": "light"
     },
     "output_type": "display_data"
    }
   ],
   "source": [
    "LogisticRegressionModel = LogisticRegression(max_iter=200)\n",
    "LogisticRegressionModel.fit(x_train, y_train)\n",
    "LogisticRegressionModel_y_pred = LogisticRegressionModel.predict(x_test)\n",
    "\n",
    "LogisticRegressionModel_TrainScore = round(LogisticRegressionModel.score(x_train, y_train)* 100, 2)\n",
    "LogisticRegressionModel_TestScore = round(LogisticRegressionModel.score(x_test, y_test)* 100, 2)\n",
    "\n",
    "print('Logistic Regression Train Score:', LogisticRegressionModel_TrainScore)\n",
    "print('Logistic Regression Test Score:', LogisticRegressionModel_TestScore)\n",
    "\n",
    "LogisticRegressionModel_CM = confusion_matrix(y_test, LogisticRegressionModel_y_pred)\n",
    "LogisticRegressionModel_ConfusionMatrix = pd. DataFrame(LogisticRegressionModel_CM, index=classes_names, columns=classes_names)\n",
    "\n",
    "sns.heatmap(LogisticRegressionModel_ConfusionMatrix, annot=True, cbar=None, cmap=\"OrRd\", fmt = 'g')\n",
    "plt.title(\"Logistic Regression Confusion Matrix\"), plt.tight_layout()\n",
    "plt.ylabel(\"Actual Class\"), plt.xlabel(\"Predicted Class\")\n",
    "plt.show()\n",
    "\n",
    "Accuracy_LR = round((accuracy_score(y_test, LogisticRegressionModel_y_pred))*100, 3)\n",
    "Precision_LR = round((precision_score(y_test, LogisticRegressionModel_y_pred))*100, 3)\n",
    "Recall_LR = round((recall_score(y_test, LogisticRegressionModel_y_pred))*100, 3)\n",
    "F1_Score_LR = round((f1_score(y_test, LogisticRegressionModel_y_pred))*100, 3)\n",
    "Specificity_LR = round(metrics.recall_score(y_test, LogisticRegressionModel_y_pred, pos_label=0)*100, 3)\n",
    "print(\"Accuracy:\", Accuracy_LR)\n",
    "print(\"Precision:\", Precision_LR)\n",
    "print(\"Recall:\", Recall_LR)\n",
    "print(\"F1_Score:\", F1_Score_LR)\n",
    "print(\"Specifity:\", Specificity_LR)\n",
    "\n",
    "disp = plot_precision_recall_curve(LogisticRegressionModel, x_test, y_test)"
   ]
  },
  {
   "cell_type": "code",
   "execution_count": 19,
   "id": "4322ac4e",
   "metadata": {},
   "outputs": [
    {
     "name": "stdout",
     "output_type": "stream",
     "text": [
      "SVC Train Score:  99.47\n",
      "SVC Test Score:  99.42\n"
     ]
    },
    {
     "data": {
      "image/png": "[encoded data removed]",
      "text/plain": [
       "<Figure size 432x288 with 1 Axes>"
      ]
     },
     "metadata": {
      "needs_background": "light"
     },
     "output_type": "display_data"
    },
    {
     "name": "stdout",
     "output_type": "stream",
     "text": [
      "Accuracy: 99.424\n",
      "Precision: 18.75\n",
      "Recall: 0.166\n",
      "F1_Score: 0.33\n",
      "Specifity: 99.996\n"
     ]
    },
    {
     "data": {
      "image/png": "[encoded data removed]",
      "text/plain": [
       "<Figure size 432x288 with 1 Axes>"
      ]
     },
     "metadata": {
      "needs_background": "light"
     },
     "output_type": "display_data"
    }
   ],
   "source": [
    "#SVC Model\n",
    "SVCModel = SVC(kernel= 'rbf', max_iter=300, C=1.0, gamma='auto', probability= True)\n",
    "SVCModel.fit(x_train, y_train)\n",
    "SVCModel_y_pred = SVCModel.predict(x_test)\n",
    "\n",
    "#Score\n",
    "SVCModel_TrainScore =  round(SVCModel.score(x_train, y_train) * 100, 2)\n",
    "SVCModel_TestScore = round(SVCModel.score(x_test, y_test) * 100, 2)\n",
    "\n",
    "print('SVC Train Score: ', SVCModel_TrainScore)\n",
    "print('SVC Test Score: ',SVCModel_TestScore)\n",
    "\n",
    "\n",
    "#Confusion Matrix\n",
    "SVCModel_CM = confusion_matrix(y_test, SVCModel_y_pred)\n",
    "SVCModel_ConfusionMatrix = pd.DataFrame(SVCModel_CM, index=classes_names, columns=classes_names)\n",
    "\n",
    "sns.heatmap(SVCModel_ConfusionMatrix, annot=True, cbar=None, cmap=\"Purples\", fmt = 'g')\n",
    "\n",
    "plt.title(\"SVC Confusion Matrix\"), plt.tight_layout()\n",
    "plt.ylabel(\"Actual Class\"), plt.xlabel(\"Predicted Class\")\n",
    "plt.show()\n",
    "\n",
    "#Metrics\n",
    "Accuracy_SVM = round((accuracy_score(y_test, SVCModel_y_pred))*100, 3)\n",
    "Precision_SVM = round((precision_score(y_test, SVCModel_y_pred))*100, 3)\n",
    "Recall_SVM = round((recall_score(y_test, SVCModel_y_pred))*100, 3)\n",
    "F1_Score_SVM = round((f1_score(y_test, SVCModel_y_pred))*100, 3)\n",
    "Specificity_SVM = round(metrics.recall_score(y_test, SVCModel_y_pred, pos_label=0)*100, 3)\n",
    "print(\"Accuracy:\", Accuracy_SVM)\n",
    "print(\"Precision:\", Precision_SVM)\n",
    "print(\"Recall:\", Recall_SVM)\n",
    "print(\"F1_Score:\", F1_Score_SVM)\n",
    "print(\"Specifity:\", Specificity_SVM)\n",
    "\n",
    "disp = plot_precision_recall_curve(SVCModel, x_test, y_test)"
   ]
  },
  {
   "cell_type": "code",
   "execution_count": 20,
   "id": "d5dc4c34",
   "metadata": {},
   "outputs": [
    {
     "name": "stdout",
     "output_type": "stream",
     "text": [
      "Decision Tree Train Score:  99.71\n",
      "Decision Tree Test Score:  99.71\n"
     ]
    },
    {
     "data": {
      "image/png": "[encoded data removed]",
      "text/plain": [
       "<Figure size 432x288 with 1 Axes>"
      ]
     },
     "metadata": {
      "needs_background": "light"
     },
     "output_type": "display_data"
    },
    {
     "name": "stdout",
     "output_type": "stream",
     "text": [
      "Accuracy: 99.711\n",
      "Precision: 89.478\n",
      "Recall: 56.16\n",
      "F1_Score: 69.008\n",
      "Specifity: 99.962\n"
     ]
    },
    {
     "data": {
      "image/png": "[encoded data removed]",
      "text/plain": [
       "<Figure size 432x288 with 1 Axes>"
      ]
     },
     "metadata": {
      "needs_background": "light"
     },
     "output_type": "display_data"
    }
   ],
   "source": [
    "#Decision Tree Model\n",
    "DecisionTreeModel = DecisionTreeClassifier(criterion='entropy',max_depth=5,random_state=33) #criterion can be entropy\n",
    "DecisionTreeModel.fit(x_train, y_train)\n",
    "DecisionTreeModel_y_pred = DecisionTreeModel.predict(x_test)\n",
    "\n",
    "\n",
    "#Score\n",
    "DecisionTreeModel_TrainScore =  round(DecisionTreeModel.score(x_train, y_train) * 100, 2)\n",
    "DecisionTreeModel_TestScore = round(DecisionTreeModel.score(x_test, y_test) * 100, 2)\n",
    "\n",
    "print('Decision Tree Train Score: ' , DecisionTreeModel_TrainScore)\n",
    "print('Decision Tree Test Score: ' , DecisionTreeModel_TestScore)\n",
    "\n",
    "\n",
    "#Confusion Matrix\n",
    "DecisionTreeModel_CM = confusion_matrix(y_test, DecisionTreeModel_y_pred)\n",
    "DecisionTreeModel_ConfusionMatrix = pd.DataFrame(DecisionTreeModel_CM, index=classes_names, columns=classes_names)\n",
    "\n",
    "sns.heatmap(DecisionTreeModel_ConfusionMatrix, annot=True, cbar=None, cmap=\"Blues\", fmt = 'g')\n",
    "plt.title(\"Decision Tree Confusion Matrix\"), plt.tight_layout()\n",
    "plt.ylabel(\"Actual Class\"), plt.xlabel(\"Predicted Class\")\n",
    "plt.show()\n",
    "\n",
    "#Metrics\n",
    "Accuracy_DT = round((accuracy_score(y_test, DecisionTreeModel_y_pred))*100, 3)\n",
    "Precision_DT = round((precision_score(y_test, DecisionTreeModel_y_pred))*100, 3)\n",
    "Recall_DT = round((recall_score(y_test, DecisionTreeModel_y_pred))*100, 3)\n",
    "F1_Score_DT = round((f1_score(y_test, DecisionTreeModel_y_pred))*100, 3)\n",
    "Specificity_DT = round(metrics.recall_score(y_test, DecisionTreeModel_y_pred, pos_label=0)*100, 3)\n",
    "print(\"Accuracy:\", Accuracy_DT)\n",
    "print(\"Precision:\", Precision_DT)\n",
    "print(\"Recall:\", Recall_DT)\n",
    "print(\"F1_Score:\", F1_Score_DT)\n",
    "print(\"Specifity:\", Specificity_DT)\n",
    "\n",
    "disp = plot_precision_recall_curve(DecisionTreeModel, x_test, y_test)"
   ]
  },
  {
   "cell_type": "code",
   "execution_count": 21,
   "id": "61895952",
   "metadata": {},
   "outputs": [
    {
     "name": "stdout",
     "output_type": "stream",
     "text": [
      "RandomForestModel Train Score:  99.54\n",
      "RandomForestModel Test Score:  99.54\n"
     ]
    },
    {
     "data": {
      "image/png": "[encoded data removed]",
      "text/plain": [
       "<Figure size 432x288 with 1 Axes>"
      ]
     },
     "metadata": {
      "needs_background": "light"
     },
     "output_type": "display_data"
    },
    {
     "name": "stdout",
     "output_type": "stream",
     "text": [
      "Accuracy: 99.543\n",
      "Precision: 100.0\n",
      "Recall: 20.255\n",
      "F1_Score: 33.687\n",
      "Specifity: 100.0\n"
     ]
    },
    {
     "data": {
      "image/png": "[encoded data removed]",
      "text/plain": [
       "<Figure size 432x288 with 1 Axes>"
      ]
     },
     "metadata": {
      "needs_background": "light"
     },
     "output_type": "display_data"
    }
   ],
   "source": [
    "#Random Forest Model\n",
    "RandomForestModel = RandomForestClassifier(criterion = 'gini',n_estimators=200,max_depth=5,random_state=33, n_jobs=-1)\n",
    "RandomForestModel.fit(x_train, y_train)\n",
    "RandomForestModel_y_pred = RandomForestModel.predict(x_test)\n",
    "\n",
    "\n",
    "#Score\n",
    "RandomForestModel_TrainScore =  round(RandomForestModel.score(x_train, y_train) * 100, 2)\n",
    "RandomForestModel_TestScore = round(RandomForestModel.score(x_test, y_test) * 100, 2)\n",
    "\n",
    "print('RandomForestModel Train Score: ' , RandomForestModel_TrainScore)\n",
    "print('RandomForestModel Test Score: ' , RandomForestModel_TestScore)\n",
    "\n",
    "\n",
    "#Confusion Matrix\n",
    "RandomForestModel_CM = confusion_matrix(y_test, RandomForestModel_y_pred)\n",
    "RandomForestModel_ConfusionMatrix = pd.DataFrame(RandomForestModel_CM, index=classes_names, columns=classes_names)\n",
    "\n",
    "sns.heatmap(RandomForestModel_ConfusionMatrix, annot=True, cbar=None, cmap =\"Greens\", fmt = 'g')\n",
    "plt.title(\"Random Forest Confusion Matrix\"), plt.tight_layout()\n",
    "plt.ylabel(\"Actual Class\"), plt.xlabel(\"Predicted Class\")\n",
    "plt.show()\n",
    "\n",
    "#Metrics\n",
    "Accuracy_RF = round((accuracy_score(y_test, RandomForestModel_y_pred))*100, 3)\n",
    "Precision_RF = round((precision_score(y_test, RandomForestModel_y_pred))*100, 3)\n",
    "Recall_RF = round((recall_score(y_test, RandomForestModel_y_pred))*100, 3)\n",
    "F1_Score_RF = round((f1_score(y_test, RandomForestModel_y_pred))*100, 3)\n",
    "Specificity_RF = round(metrics.recall_score(y_test, RandomForestModel_y_pred, pos_label=0)*100, 3)\n",
    "print(\"Accuracy:\", Accuracy_RF)\n",
    "print(\"Precision:\", Precision_RF)\n",
    "print(\"Recall:\", Recall_RF)\n",
    "print(\"F1_Score:\", F1_Score_RF)\n",
    "print(\"Specifity:\", Specificity_RF)\n",
    "\n",
    "disp = plot_precision_recall_curve(RandomForestModel, x_test, y_test)"
   ]
  },
  {
   "cell_type": "code",
   "execution_count": 22,
   "id": "2ab94935",
   "metadata": {},
   "outputs": [
    {
     "name": "stdout",
     "output_type": "stream",
     "text": [
      "Bayes Train Score:  99.15\n",
      "Bayes Test Score:  99.15\n"
     ]
    },
    {
     "data": {
      "image/png": "[encoded data removed]",
      "text/plain": [
       "<Figure size 432x288 with 1 Axes>"
      ]
     },
     "metadata": {
      "needs_background": "light"
     },
     "output_type": "display_data"
    },
    {
     "name": "stdout",
     "output_type": "stream",
     "text": [
      "Specifity: 99.442\n",
      "Accuracy: 99.154\n",
      "Precision: 33.688\n",
      "Recall: 49.168\n",
      "F1_Score: 39.982\n"
     ]
    },
    {
     "data": {
      "image/png": "[encoded data removed]",
      "text/plain": [
       "<Figure size 432x288 with 1 Axes>"
      ]
     },
     "metadata": {
      "needs_background": "light"
     },
     "output_type": "display_data"
    }
   ],
   "source": [
    "from sklearn.naive_bayes import GaussianNB\n",
    "gaussian = GaussianNB()\n",
    "gaussian.fit(x_train, y_train)\n",
    "#Predict Output\n",
    "gauss_pred = gaussian.predict(x_test)\n",
    "\n",
    "gaussian_TrainScore =  round(gaussian.score(x_train, y_train) * 100, 2)\n",
    "gaussian_TestScore = round(gaussian.score(x_test, y_test) * 100, 2)\n",
    "\n",
    "print('Bayes Train Score: ', gaussian_TrainScore)\n",
    "print('Bayes Test Score: ',gaussian_TestScore)\n",
    "\n",
    "\n",
    "#Confusion Matrix\n",
    "gaussian_CM = confusion_matrix(y_test, gauss_pred)\n",
    "gaussian_ConfusionMatrix = pd.DataFrame(gaussian_CM, index=classes_names, columns=classes_names)\n",
    "\n",
    "sns.heatmap(gaussian_ConfusionMatrix, annot=True, cbar=None, cmap=\"Purples\", fmt = 'g')\n",
    "\n",
    "plt.title(\"Bayes Confusion Matrix\"), plt.tight_layout()\n",
    "plt.ylabel(\"Actual Class\"), plt.xlabel(\"Predicted Class\")\n",
    "plt.show()\n",
    "\n",
    "#Metrics\n",
    "Accuracy_NB = round((accuracy_score(y_test, gauss_pred))*100, 3)\n",
    "Precision_NB = round((precision_score(y_test, gauss_pred))*100, 3)\n",
    "Recall_NB = round((recall_score(y_test, gauss_pred))*100, 3)\n",
    "F1_Score_NB = round((f1_score(y_test, gauss_pred))*100, 3)\n",
    "Specificity_NB = round(metrics.recall_score(y_test, gauss_pred, pos_label=0)*100, 3)\n",
    "\n",
    "print(\"Specifity:\", Specificity_NB)\n",
    "print(\"Accuracy:\", Accuracy_NB)\n",
    "print(\"Precision:\", Precision_NB)\n",
    "print(\"Recall:\", Recall_NB)\n",
    "print(\"F1_Score:\", F1_Score_NB)\n",
    "\n",
    "disp = plot_precision_recall_curve(gaussian, x_test, y_test)"
   ]
  },
  {
   "cell_type": "code",
   "execution_count": 23,
   "id": "3e5a0229",
   "metadata": {},
   "outputs": [
    {
     "name": "stdout",
     "output_type": "stream",
     "text": [
      "classifier created\n",
      "KNN Train Score:  99.67\n",
      "KNN Test Score:  99.59\n"
     ]
    },
    {
     "data": {
      "image/png": "[encoded data removed]",
      "text/plain": [
       "<Figure size 432x288 with 1 Axes>"
      ]
     },
     "metadata": {
      "needs_background": "light"
     },
     "output_type": "display_data"
    },
    {
     "name": "stdout",
     "output_type": "stream",
     "text": [
      "Accuracy: 99.594\n",
      "Precision: 79.684\n",
      "Recall: 39.179\n",
      "F1_Score: 52.53\n",
      "Specifity: 99.942\n"
     ]
    },
    {
     "data": {
      "image/png": "[encoded data removed]",
      "text/plain": [
       "<Figure size 432x288 with 1 Axes>"
      ]
     },
     "metadata": {
      "needs_background": "light"
     },
     "output_type": "display_data"
    }
   ],
   "source": [
    "knn = KNeighborsClassifier(n_neighbors = 5,n_jobs=16)\n",
    "knn.fit(x_train,y_train)\n",
    "print(\"classifier created\")\n",
    "knn_y_pred = knn.predict(x_test)\n",
    "knn_TrainScore = round(knn.score(x_train, y_train) * 100, 2)\n",
    "knn_TestScore = round(knn.score(x_test, y_test) * 100, 2)\n",
    "\n",
    "print('KNN Train Score: ' , knn_TrainScore)\n",
    "print('KNN Test Score: ' , knn_TestScore)\n",
    "\n",
    "\n",
    "#Confusion Matrix\n",
    "knn_CM = confusion_matrix(y_test, knn_y_pred)\n",
    "knn_ConfusionMatrix = pd.DataFrame(knn_CM, index=classes_names, columns=classes_names)\n",
    "\n",
    "sns.heatmap(knn_ConfusionMatrix, annot=True, cbar=None, cmap=\"Blues\", fmt = 'g')\n",
    "plt.title(\"KNN Confusion Matrix\"), plt.tight_layout()\n",
    "plt.ylabel(\"Actual Class\"), plt.xlabel(\"Predicted Class\")\n",
    "plt.show()\n",
    "\n",
    "#Metrics\n",
    "Accuracy_KNN = round((accuracy_score(y_test, knn_y_pred))*100, 3)\n",
    "Precision_KNN = round((precision_score(y_test, knn_y_pred))*100, 3)\n",
    "Recall_KNN = round((recall_score(y_test, knn_y_pred))*100, 3)\n",
    "F1_Score_KNN = round((f1_score(y_test, knn_y_pred))*100, 3)\n",
    "Specificity_KNN = round(metrics.recall_score(y_test, knn_y_pred, pos_label=0)*100, 3)\n",
    "print(\"Accuracy:\", Accuracy_KNN)\n",
    "print(\"Precision:\", Precision_KNN)\n",
    "print(\"Recall:\", Recall_KNN)\n",
    "print(\"F1_Score:\", F1_Score_KNN)\n",
    "print(\"Specifity:\", Specificity_KNN)\n",
    "\n",
    "disp = plot_precision_recall_curve(knn, x_test, y_test)\n"
   ]
  },
  {
   "cell_type": "code",
   "execution_count": 24,
   "id": "580bc310",
   "metadata": {},
   "outputs": [
    {
     "data": {
      "text/html": [
       "<div>\n",
       "<style scoped>\n",
       "    .dataframe tbody tr th:only-of-type {\n",
       "        vertical-align: middle;\n",
       "    }\n",
       "\n",
       "    .dataframe tbody tr th {\n",
       "        vertical-align: top;\n",
       "    }\n",
       "\n",
       "    .dataframe thead th {\n",
       "        text-align: right;\n",
       "    }\n",
       "</style>\n",
       "<table border=\"1\" class=\"dataframe\">\n",
       "  <thead>\n",
       "    <tr style=\"text-align: right;\">\n",
       "      <th></th>\n",
       "      <th>Model</th>\n",
       "      <th>Train Score</th>\n",
       "      <th>Test Score/Accuracy</th>\n",
       "      <th>Precision</th>\n",
       "      <th>Recall</th>\n",
       "      <th>F1_Score</th>\n",
       "      <th>Specificity</th>\n",
       "    </tr>\n",
       "  </thead>\n",
       "  <tbody>\n",
       "    <tr>\n",
       "      <th>2</th>\n",
       "      <td>Decision Tree</td>\n",
       "      <td>99.71</td>\n",
       "      <td>99.71</td>\n",
       "      <td>89.478</td>\n",
       "      <td>56.160</td>\n",
       "      <td>69.008</td>\n",
       "      <td>99.962</td>\n",
       "    </tr>\n",
       "    <tr>\n",
       "      <th>5</th>\n",
       "      <td>K Nearest Neighbour</td>\n",
       "      <td>99.67</td>\n",
       "      <td>99.59</td>\n",
       "      <td>79.684</td>\n",
       "      <td>39.179</td>\n",
       "      <td>52.530</td>\n",
       "      <td>99.942</td>\n",
       "    </tr>\n",
       "    <tr>\n",
       "      <th>3</th>\n",
       "      <td>Random Forest</td>\n",
       "      <td>99.54</td>\n",
       "      <td>99.54</td>\n",
       "      <td>100.000</td>\n",
       "      <td>20.255</td>\n",
       "      <td>33.687</td>\n",
       "      <td>100.000</td>\n",
       "    </tr>\n",
       "    <tr>\n",
       "      <th>1</th>\n",
       "      <td>Support Vector Machines</td>\n",
       "      <td>99.47</td>\n",
       "      <td>99.42</td>\n",
       "      <td>18.750</td>\n",
       "      <td>0.166</td>\n",
       "      <td>0.330</td>\n",
       "      <td>99.996</td>\n",
       "    </tr>\n",
       "    <tr>\n",
       "      <th>0</th>\n",
       "      <td>Logistic Regression</td>\n",
       "      <td>99.36</td>\n",
       "      <td>99.36</td>\n",
       "      <td>0.442</td>\n",
       "      <td>0.055</td>\n",
       "      <td>0.099</td>\n",
       "      <td>99.928</td>\n",
       "    </tr>\n",
       "    <tr>\n",
       "      <th>4</th>\n",
       "      <td>Naive Bayes</td>\n",
       "      <td>99.15</td>\n",
       "      <td>99.15</td>\n",
       "      <td>33.688</td>\n",
       "      <td>49.168</td>\n",
       "      <td>39.982</td>\n",
       "      <td>99.442</td>\n",
       "    </tr>\n",
       "  </tbody>\n",
       "</table>\n",
       "</div>"
      ],
      "text/plain": [
       "                     Model  Train Score  Test Score/Accuracy  Precision  \\\n",
       "2            Decision Tree        99.71                99.71     89.478   \n",
       "5      K Nearest Neighbour        99.67                99.59     79.684   \n",
       "3            Random Forest        99.54                99.54    100.000   \n",
       "1  Support Vector Machines        99.47                99.42     18.750   \n",
       "0      Logistic Regression        99.36                99.36      0.442   \n",
       "4              Naive Bayes        99.15                99.15     33.688   \n",
       "\n",
       "   Recall  F1_Score  Specificity  \n",
       "2  56.160    69.008       99.962  \n",
       "5  39.179    52.530       99.942  \n",
       "3  20.255    33.687      100.000  \n",
       "1   0.166     0.330       99.996  \n",
       "0   0.055     0.099       99.928  \n",
       "4  49.168    39.982       99.442  "
      ]
     },
     "execution_count": 24,
     "metadata": {},
     "output_type": "execute_result"
    }
   ],
   "source": [
    "models = pd.DataFrame({\n",
    "    'Model': ['Logistic Regression', 'Support Vector Machines', 'Decision Tree', 'Random Forest', 'Naive Bayes', 'K Nearest Neighbour'],\n",
    "    'Train Score': [LogisticRegressionModel_TrainScore, SVCModel_TrainScore, DecisionTreeModel_TrainScore, RandomForestModel_TrainScore, gaussian_TrainScore, knn_TrainScore],\n",
    "    'Test Score/Accuracy': [LogisticRegressionModel_TestScore, SVCModel_TestScore, DecisionTreeModel_TestScore, RandomForestModel_TestScore, gaussian_TestScore, knn_TestScore],\n",
    "'Precision': [Precision_LR, Precision_SVM, Precision_DT, Precision_RF, Precision_NB, Precision_KNN],\n",
    "'Recall': [Recall_LR, Recall_SVM, Recall_DT, Recall_RF, Recall_NB, Recall_KNN],\n",
    "'F1_Score': [F1_Score_LR, F1_Score_SVM, F1_Score_DT, F1_Score_RF, F1_Score_NB, F1_Score_KNN],\n",
    "'Specificity': [Specificity_LR, Specificity_SVM, Specificity_DT, Specificity_RF, Specificity_NB, Specificity_KNN]})\n",
    "\n",
    "models.sort_values(['Train Score', 'Test Score/Accuracy', 'Precision', 'Recall', 'F1_Score', 'Specificity'], ascending=[False, False, False, False, False, False])"
   ]
  },
  {
   "cell_type": "code",
   "execution_count": 25,
   "id": "e087521f",
   "metadata": {},
   "outputs": [
    {
     "data": {
      "text/html": [
       "<div>\n",
       "<style scoped>\n",
       "    .dataframe tbody tr th:only-of-type {\n",
       "        vertical-align: middle;\n",
       "    }\n",
       "\n",
       "    .dataframe tbody tr th {\n",
       "        vertical-align: top;\n",
       "    }\n",
       "\n",
       "    .dataframe thead th {\n",
       "        text-align: right;\n",
       "    }\n",
       "</style>\n",
       "<table border=\"1\" class=\"dataframe\">\n",
       "  <thead>\n",
       "    <tr style=\"text-align: right;\">\n",
       "      <th></th>\n",
       "      <th>Model</th>\n",
       "      <th>Test Score/Accuracy</th>\n",
       "      <th>Specificity</th>\n",
       "    </tr>\n",
       "  </thead>\n",
       "  <tbody>\n",
       "    <tr>\n",
       "      <th>2</th>\n",
       "      <td>Decision Tree</td>\n",
       "      <td>99.71</td>\n",
       "      <td>99.962</td>\n",
       "    </tr>\n",
       "    <tr>\n",
       "      <th>5</th>\n",
       "      <td>K Nearest Neighbour</td>\n",
       "      <td>99.59</td>\n",
       "      <td>99.942</td>\n",
       "    </tr>\n",
       "    <tr>\n",
       "      <th>3</th>\n",
       "      <td>Random Forest</td>\n",
       "      <td>99.54</td>\n",
       "      <td>100.000</td>\n",
       "    </tr>\n",
       "    <tr>\n",
       "      <th>1</th>\n",
       "      <td>Support Vector Machines</td>\n",
       "      <td>99.42</td>\n",
       "      <td>99.996</td>\n",
       "    </tr>\n",
       "    <tr>\n",
       "      <th>0</th>\n",
       "      <td>Logistic Regression</td>\n",
       "      <td>99.36</td>\n",
       "      <td>99.928</td>\n",
       "    </tr>\n",
       "    <tr>\n",
       "      <th>4</th>\n",
       "      <td>Naive Bayes</td>\n",
       "      <td>99.15</td>\n",
       "      <td>99.442</td>\n",
       "    </tr>\n",
       "  </tbody>\n",
       "</table>\n",
       "</div>"
      ],
      "text/plain": [
       "                     Model  Test Score/Accuracy  Specificity\n",
       "2            Decision Tree                99.71       99.962\n",
       "5      K Nearest Neighbour                99.59       99.942\n",
       "3            Random Forest                99.54      100.000\n",
       "1  Support Vector Machines                99.42       99.996\n",
       "0      Logistic Regression                99.36       99.928\n",
       "4              Naive Bayes                99.15       99.442"
      ]
     },
     "execution_count": 25,
     "metadata": {},
     "output_type": "execute_result"
    }
   ],
   "source": [
    "models = pd.DataFrame({\n",
    "    'Model': ['Logistic Regression', 'Support Vector Machines', 'Decision Tree', 'Random Forest', 'Naive Bayes', 'K Nearest Neighbour'],\n",
    "    'Test Score/Accuracy': [LogisticRegressionModel_TestScore, SVCModel_TestScore, DecisionTreeModel_TestScore, RandomForestModel_TestScore, gaussian_TestScore, knn_TestScore],'Specificity': [Specificity_LR, Specificity_SVM, Specificity_DT, Specificity_RF, Specificity_NB, Specificity_KNN]})\n",
    "\n",
    "models.sort_values(['Test Score/Accuracy', 'Specificity'], ascending=[False, False])"
   ]
  },
  {
   "cell_type": "markdown",
   "id": "1ad0104f",
   "metadata": {},
   "source": [
    "## ROC Curve"
   ]
  },
  {
   "cell_type": "code",
   "execution_count": 26,
   "id": "6ca03a2c",
   "metadata": {},
   "outputs": [],
   "source": [
    "from sklearn.metrics import roc_curve\n",
    "model1 = LogisticRegression(max_iter=200)\n",
    "model2 = KNeighborsClassifier(n_neighbors = 5,n_jobs=16)\n",
    "model3 = GaussianNB()\n",
    "model4 = RandomForestClassifier(criterion = 'gini', n_estimators=200, max_depth=5, random_state=33, n_jobs=-1)\n",
    "model5 = DecisionTreeClassifier(criterion='entropy',max_depth=5,random_state=33)\n",
    "model6 = SVC(kernel= 'rbf', max_iter=300, C=1.0, gamma='auto', probability=True)\n",
    "\n",
    "# fit model\n",
    "model1.fit(x_train, y_train)\n",
    "model2.fit(x_train, y_train)\n",
    "model3.fit(x_train, y_train)\n",
    "model4.fit(x_train, y_train)\n",
    "model5.fit(x_train, y_train)\n",
    "model6.fit(x_train, y_train)\n",
    "\n",
    "# predict probabilities\n",
    "pred_prob1 = model1.predict_proba(x_test)\n",
    "pred_prob2 = model2.predict_proba(x_test)\n",
    "pred_prob3 = model3.predict_proba(x_test)\n",
    "pred_prob4 = model4.predict_proba(x_test)\n",
    "pred_prob5 = model5.predict_proba(x_test)\n",
    "pred_prob6 = model6.predict_proba(x_test)\n",
    "\n",
    "# roc curve for models\n",
    "fpr1, tpr1, thresh1 = roc_curve(y_test, pred_prob1[:,1], pos_label=1)\n",
    "fpr2, tpr2, thresh2 = roc_curve(y_test, pred_prob2[:,1], pos_label=1)\n",
    "fpr3, tpr3, thresh3 = roc_curve(y_test, pred_prob3[:,1], pos_label=1)\n",
    "fpr4, tpr4, thresh4 = roc_curve(y_test, pred_prob4[:,1], pos_label=1)\n",
    "fpr5, tpr5, thresh5 = roc_curve(y_test, pred_prob5[:,1], pos_label=1)\n",
    "fpr6, tpr6, thresh6 = roc_curve(y_test, pred_prob6[:,1], pos_label=1)\n",
    "\n",
    "# roc curve for tpr = fpr \n",
    "random_probs = [0 for i in range(len(y_test))]\n",
    "p_fpr, p_tpr, _ = roc_curve(y_test, random_probs, pos_label=1)"
   ]
  },
  {
   "cell_type": "code",
   "execution_count": 27,
   "id": "7bc73ba9",
   "metadata": {},
   "outputs": [
    {
     "data": {
      "image/png": "[encoded data removed]",
      "text/plain": [
       "<Figure size 432x288 with 1 Axes>"
      ]
     },
     "metadata": {
      "needs_background": "light"
     },
     "output_type": "display_data"
    }
   ],
   "source": [
    "# plot roc curves\n",
    "plt.plot(fpr1, tpr1, linestyle='--',color='orange', label='Logistic Regression')\n",
    "plt.plot(fpr2, tpr2, linestyle='--',color='green', label='KNN')\n",
    "plt.plot(fpr3, tpr3, linestyle='--',color='maroon', label='Naive Bayes')\n",
    "plt.plot(fpr4, tpr4, linestyle='--',color='yellow', label='Random Forest')\n",
    "plt.plot(fpr5, tpr5, linestyle='--',color='purple', label='Decision Tree')\n",
    "plt.plot(fpr6, tpr6, linestyle='--',color='red', label='Support Vector Machine')\n",
    "plt.plot(p_fpr, p_tpr, linestyle='--', color='blue')\n",
    "# title\n",
    "plt.title('ROC curve')\n",
    "# x label\n",
    "plt.xlabel('False Positive Rate')\n",
    "# y label\n",
    "plt.ylabel('True Positive rate')\n",
    "\n",
    "plt.legend(loc='best')\n",
    "plt.savefig('ROC',dpi=200)\n",
    "plt.show();"
   ]
  },
  {
   "cell_type": "code",
   "execution_count": 28,
   "id": "a8f1a50c",
   "metadata": {},
   "outputs": [
    {
     "data": {
      "image/png": "[encoded data removed]",
      "text/plain": [
       "<Figure size 1440x1440 with 15 Axes>"
      ]
     },
     "metadata": {
      "needs_background": "light"
     },
     "output_type": "display_data"
    }
   ],
   "source": [
    "def draw_histograms(new_data, features, rows, cols):\n",
    "    fig=plt.figure(figsize=(20,20))\n",
    "    for i, feature in enumerate(features):\n",
    "        ax=fig.add_subplot(rows,cols,i+1)\n",
    "        data[feature].hist(bins=20,ax=ax,facecolor='midnightblue')\n",
    "        ax.set_title(feature+'Distribution',color='DarkRed')\n",
    "        ax.set_yscale('log')\n",
    "    fig.tight_layout()\n",
    "    plt.show()\n",
    "draw_histograms(data,data.columns,8,4)\n",
    "     "
   ]
  },
  {
   "cell_type": "code",
   "execution_count": null,
   "id": "00e3aec5",
   "metadata": {},
   "outputs": [],
   "source": []
  },
  {
   "cell_type": "code",
   "execution_count": null,
   "id": "fd225c73",
   "metadata": {},
   "outputs": [],
   "source": []
  },
  {
   "cell_type": "code",
   "execution_count": null,
   "id": "142420fd",
   "metadata": {},
   "outputs": [],
   "source": []
  },
  {
   "cell_type": "code",
   "execution_count": null,
   "id": "d3ec10ca",
   "metadata": {},
   "outputs": [],
   "source": []
  },
  {
   "cell_type": "code",
   "execution_count": null,
   "id": "a3117f49",
   "metadata": {},
   "outputs": [],
   "source": []
  },
  {
   "cell_type": "code",
   "execution_count": null,
   "id": "b1ec4aa3",
   "metadata": {},
   "outputs": [],
   "source": []
  },
  {
   "cell_type": "code",
   "execution_count": null,
   "id": "28c1b3f4",
   "metadata": {},
   "outputs": [],
   "source": []
  },
  {
   "cell_type": "code",
   "execution_count": null,
   "id": "2016bfa3",
   "metadata": {},
   "outputs": [],
   "source": []
  },
  {
   "cell_type": "code",
   "execution_count": null,
   "id": "b4fac543",
   "metadata": {},
   "outputs": [],
   "source": []
  },
  {
   "cell_type": "code",
   "execution_count": null,
   "id": "e3fc6845",
   "metadata": {},
   "outputs": [],
   "source": []
  },
  {
   "cell_type": "code",
   "execution_count": null,
   "id": "aca49c76",
   "metadata": {},
   "outputs": [],
   "source": []
  },
  {
   "cell_type": "code",
   "execution_count": null,
   "id": "4eecfefa",
   "metadata": {},
   "outputs": [],
   "source": []
  },
  {
   "cell_type": "code",
   "execution_count": null,
   "id": "e54d4ac3",
   "metadata": {},
   "outputs": [],
   "source": []
  },
  {
   "cell_type": "code",
   "execution_count": null,
   "id": "e94342fb",
   "metadata": {},
   "outputs": [],
   "source": []
  },
  {
   "cell_type": "code",
   "execution_count": null,
   "id": "46cf95bb",
   "metadata": {},
   "outputs": [],
   "source": []
  },
  {
   "cell_type": "code",
   "execution_count": null,
   "id": "7b139716",
   "metadata": {},
   "outputs": [],
   "source": []
  },
  {
   "cell_type": "code",
   "execution_count": null,
   "id": "d3a33240",
   "metadata": {},
   "outputs": [],
   "source": []
  }
 ],
 "metadata": {
  "kernelspec": {
   "display_name": "Python 3",
   "language": "python",
   "name": "python3"
  },
  "language_info": {
   "codemirror_mode": {
    "name": "ipython",
    "version": 3
   },
   "file_extension": ".py",
   "mimetype": "text/x-python",
   "name": "python",
   "nbconvert_exporter": "python",
   "pygments_lexer": "ipython3",
   "version": "3.8.8"
  }
 },
 "nbformat": 4,
 "nbformat_minor": 5
}
